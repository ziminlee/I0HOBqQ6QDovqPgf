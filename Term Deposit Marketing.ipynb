{
 "cells": [
  {
   "cell_type": "markdown",
   "id": "82f24d11-97e5-4d4a-8632-81888dd4b450",
   "metadata": {},
   "source": [
    "# Project - Term Deposit\n",
    "**Name: Zimin Lee**"
   ]
  },
  {
   "cell_type": "code",
   "execution_count": 1,
   "id": "4c259a0c-dcce-4c94-bdab-15304da15ee7",
   "metadata": {},
   "outputs": [],
   "source": [
    "import numpy as np\n",
    "import pandas as pd\n",
    "import matplotlib.pyplot as plt\n",
    "import seaborn as sns\n",
    "\n",
    "from sklearn.utils import resample\n",
    "from sklearn.utils import shuffle\n",
    "\n",
    "from pandas.plotting import scatter_matrix\n",
    "from sklearn.model_selection import train_test_split\n",
    "from sklearn.preprocessing import OneHotEncoder\n",
    "\n",
    "from sklearn.tree import DecisionTreeClassifier\n",
    "from sklearn.model_selection import GridSearchCV\n",
    "from sklearn.metrics import classification_report, accuracy_score\n",
    "\n",
    "from sklearn.preprocessing import LabelEncoder\n",
    "import xgboost as xgb\n",
    "from xgboost import XGBClassifier\n",
    "from xgboost import plot_tree\n",
    "\n",
    "from sklearn.linear_model import LogisticRegression\n",
    "\n",
    "from sklearn.svm import SVC\n",
    "from sklearn.model_selection import cross_val_score\n",
    "\n",
    "from sklearn.neighbors import KNeighborsClassifier\n",
    "from sklearn.model_selection import RandomizedSearchCV\n",
    "\n",
    "#from sklearn.model_selection import HalvingGridSearchCV"
   ]
  },
  {
   "cell_type": "markdown",
   "id": "bb73d67c-bfd9-42ec-8ffd-304f0d09917c",
   "metadata": {},
   "source": [
    "**Background**\n",
    "\n",
    "We are a small startup focusing mainly on providing machine learning solutions in the European banking market. We work on a variety of problems including fraud detection, sentiment classification and customer intention prediction and classification.\n",
    "\n",
    "We are interested in developing a robust machine learning system that leverages information coming from call center data.\n",
    "\n",
    "Ultimately, we are looking for ways to improve the success rate for calls made to customers for any product that our clients offer. Towards this goal we are working on designing an ever evolving machine learning product that offers high success outcomes while offering interpretability for our clients to make informed decisions."
   ]
  },
  {
   "cell_type": "code",
   "execution_count": 2,
   "id": "cec90b5a-cb56-4e78-9f11-369c4289f37d",
   "metadata": {},
   "outputs": [
    {
     "data": {
      "text/html": [
       "<div>\n",
       "<style scoped>\n",
       "    .dataframe tbody tr th:only-of-type {\n",
       "        vertical-align: middle;\n",
       "    }\n",
       "\n",
       "    .dataframe tbody tr th {\n",
       "        vertical-align: top;\n",
       "    }\n",
       "\n",
       "    .dataframe thead th {\n",
       "        text-align: right;\n",
       "    }\n",
       "</style>\n",
       "<table border=\"1\" class=\"dataframe\">\n",
       "  <thead>\n",
       "    <tr style=\"text-align: right;\">\n",
       "      <th></th>\n",
       "      <th>age</th>\n",
       "      <th>job</th>\n",
       "      <th>marital</th>\n",
       "      <th>education</th>\n",
       "      <th>default</th>\n",
       "      <th>balance</th>\n",
       "      <th>housing</th>\n",
       "      <th>loan</th>\n",
       "      <th>contact</th>\n",
       "      <th>day</th>\n",
       "      <th>month</th>\n",
       "      <th>duration</th>\n",
       "      <th>campaign</th>\n",
       "      <th>y</th>\n",
       "    </tr>\n",
       "  </thead>\n",
       "  <tbody>\n",
       "    <tr>\n",
       "      <th>0</th>\n",
       "      <td>58</td>\n",
       "      <td>management</td>\n",
       "      <td>married</td>\n",
       "      <td>tertiary</td>\n",
       "      <td>no</td>\n",
       "      <td>2143</td>\n",
       "      <td>yes</td>\n",
       "      <td>no</td>\n",
       "      <td>unknown</td>\n",
       "      <td>5</td>\n",
       "      <td>may</td>\n",
       "      <td>261</td>\n",
       "      <td>1</td>\n",
       "      <td>no</td>\n",
       "    </tr>\n",
       "    <tr>\n",
       "      <th>1</th>\n",
       "      <td>44</td>\n",
       "      <td>technician</td>\n",
       "      <td>single</td>\n",
       "      <td>secondary</td>\n",
       "      <td>no</td>\n",
       "      <td>29</td>\n",
       "      <td>yes</td>\n",
       "      <td>no</td>\n",
       "      <td>unknown</td>\n",
       "      <td>5</td>\n",
       "      <td>may</td>\n",
       "      <td>151</td>\n",
       "      <td>1</td>\n",
       "      <td>no</td>\n",
       "    </tr>\n",
       "    <tr>\n",
       "      <th>2</th>\n",
       "      <td>33</td>\n",
       "      <td>entrepreneur</td>\n",
       "      <td>married</td>\n",
       "      <td>secondary</td>\n",
       "      <td>no</td>\n",
       "      <td>2</td>\n",
       "      <td>yes</td>\n",
       "      <td>yes</td>\n",
       "      <td>unknown</td>\n",
       "      <td>5</td>\n",
       "      <td>may</td>\n",
       "      <td>76</td>\n",
       "      <td>1</td>\n",
       "      <td>no</td>\n",
       "    </tr>\n",
       "    <tr>\n",
       "      <th>3</th>\n",
       "      <td>47</td>\n",
       "      <td>blue-collar</td>\n",
       "      <td>married</td>\n",
       "      <td>unknown</td>\n",
       "      <td>no</td>\n",
       "      <td>1506</td>\n",
       "      <td>yes</td>\n",
       "      <td>no</td>\n",
       "      <td>unknown</td>\n",
       "      <td>5</td>\n",
       "      <td>may</td>\n",
       "      <td>92</td>\n",
       "      <td>1</td>\n",
       "      <td>no</td>\n",
       "    </tr>\n",
       "    <tr>\n",
       "      <th>4</th>\n",
       "      <td>33</td>\n",
       "      <td>unknown</td>\n",
       "      <td>single</td>\n",
       "      <td>unknown</td>\n",
       "      <td>no</td>\n",
       "      <td>1</td>\n",
       "      <td>no</td>\n",
       "      <td>no</td>\n",
       "      <td>unknown</td>\n",
       "      <td>5</td>\n",
       "      <td>may</td>\n",
       "      <td>198</td>\n",
       "      <td>1</td>\n",
       "      <td>no</td>\n",
       "    </tr>\n",
       "    <tr>\n",
       "      <th>5</th>\n",
       "      <td>35</td>\n",
       "      <td>management</td>\n",
       "      <td>married</td>\n",
       "      <td>tertiary</td>\n",
       "      <td>no</td>\n",
       "      <td>231</td>\n",
       "      <td>yes</td>\n",
       "      <td>no</td>\n",
       "      <td>unknown</td>\n",
       "      <td>5</td>\n",
       "      <td>may</td>\n",
       "      <td>139</td>\n",
       "      <td>1</td>\n",
       "      <td>no</td>\n",
       "    </tr>\n",
       "    <tr>\n",
       "      <th>6</th>\n",
       "      <td>28</td>\n",
       "      <td>management</td>\n",
       "      <td>single</td>\n",
       "      <td>tertiary</td>\n",
       "      <td>no</td>\n",
       "      <td>447</td>\n",
       "      <td>yes</td>\n",
       "      <td>yes</td>\n",
       "      <td>unknown</td>\n",
       "      <td>5</td>\n",
       "      <td>may</td>\n",
       "      <td>217</td>\n",
       "      <td>1</td>\n",
       "      <td>no</td>\n",
       "    </tr>\n",
       "    <tr>\n",
       "      <th>7</th>\n",
       "      <td>42</td>\n",
       "      <td>entrepreneur</td>\n",
       "      <td>divorced</td>\n",
       "      <td>tertiary</td>\n",
       "      <td>yes</td>\n",
       "      <td>2</td>\n",
       "      <td>yes</td>\n",
       "      <td>no</td>\n",
       "      <td>unknown</td>\n",
       "      <td>5</td>\n",
       "      <td>may</td>\n",
       "      <td>380</td>\n",
       "      <td>1</td>\n",
       "      <td>no</td>\n",
       "    </tr>\n",
       "    <tr>\n",
       "      <th>8</th>\n",
       "      <td>58</td>\n",
       "      <td>retired</td>\n",
       "      <td>married</td>\n",
       "      <td>primary</td>\n",
       "      <td>no</td>\n",
       "      <td>121</td>\n",
       "      <td>yes</td>\n",
       "      <td>no</td>\n",
       "      <td>unknown</td>\n",
       "      <td>5</td>\n",
       "      <td>may</td>\n",
       "      <td>50</td>\n",
       "      <td>1</td>\n",
       "      <td>no</td>\n",
       "    </tr>\n",
       "    <tr>\n",
       "      <th>9</th>\n",
       "      <td>43</td>\n",
       "      <td>technician</td>\n",
       "      <td>single</td>\n",
       "      <td>secondary</td>\n",
       "      <td>no</td>\n",
       "      <td>593</td>\n",
       "      <td>yes</td>\n",
       "      <td>no</td>\n",
       "      <td>unknown</td>\n",
       "      <td>5</td>\n",
       "      <td>may</td>\n",
       "      <td>55</td>\n",
       "      <td>1</td>\n",
       "      <td>no</td>\n",
       "    </tr>\n",
       "  </tbody>\n",
       "</table>\n",
       "</div>"
      ],
      "text/plain": [
       "   age           job   marital  education default  balance housing loan  \\\n",
       "0   58    management   married   tertiary      no     2143     yes   no   \n",
       "1   44    technician    single  secondary      no       29     yes   no   \n",
       "2   33  entrepreneur   married  secondary      no        2     yes  yes   \n",
       "3   47   blue-collar   married    unknown      no     1506     yes   no   \n",
       "4   33       unknown    single    unknown      no        1      no   no   \n",
       "5   35    management   married   tertiary      no      231     yes   no   \n",
       "6   28    management    single   tertiary      no      447     yes  yes   \n",
       "7   42  entrepreneur  divorced   tertiary     yes        2     yes   no   \n",
       "8   58       retired   married    primary      no      121     yes   no   \n",
       "9   43    technician    single  secondary      no      593     yes   no   \n",
       "\n",
       "   contact  day month  duration  campaign   y  \n",
       "0  unknown    5   may       261         1  no  \n",
       "1  unknown    5   may       151         1  no  \n",
       "2  unknown    5   may        76         1  no  \n",
       "3  unknown    5   may        92         1  no  \n",
       "4  unknown    5   may       198         1  no  \n",
       "5  unknown    5   may       139         1  no  \n",
       "6  unknown    5   may       217         1  no  \n",
       "7  unknown    5   may       380         1  no  \n",
       "8  unknown    5   may        50         1  no  \n",
       "9  unknown    5   may        55         1  no  "
      ]
     },
     "execution_count": 2,
     "metadata": {},
     "output_type": "execute_result"
    }
   ],
   "source": [
    "#Read File \n",
    "df = pd.read_csv(\"C:\\\\Users\\\\zzzim\\\\Desktop\\\\Apziva\\\\term-deposit-marketing-2020.csv\", sep=',')\n",
    "df.head(10)"
   ]
  },
  {
   "cell_type": "code",
   "execution_count": 3,
   "id": "9eb16550-2be8-4b5d-b010-22fb222c1517",
   "metadata": {},
   "outputs": [
    {
     "data": {
      "text/plain": [
       "<bound method DataFrame.info of        age           job   marital  education default  balance housing loan  \\\n",
       "0       58    management   married   tertiary      no     2143     yes   no   \n",
       "1       44    technician    single  secondary      no       29     yes   no   \n",
       "2       33  entrepreneur   married  secondary      no        2     yes  yes   \n",
       "3       47   blue-collar   married    unknown      no     1506     yes   no   \n",
       "4       33       unknown    single    unknown      no        1      no   no   \n",
       "...    ...           ...       ...        ...     ...      ...     ...  ...   \n",
       "39995   53    technician   married   tertiary      no      395      no   no   \n",
       "39996   30    management    single   tertiary      no     3340      no   no   \n",
       "39997   54         admin  divorced  secondary      no      200      no   no   \n",
       "39998   34    management   married   tertiary      no     1047      no   no   \n",
       "39999   38    technician   married  secondary      no     1442     yes   no   \n",
       "\n",
       "        contact  day month  duration  campaign    y  \n",
       "0       unknown    5   may       261         1   no  \n",
       "1       unknown    5   may       151         1   no  \n",
       "2       unknown    5   may        76         1   no  \n",
       "3       unknown    5   may        92         1   no  \n",
       "4       unknown    5   may       198         1   no  \n",
       "...         ...  ...   ...       ...       ...  ...  \n",
       "39995  cellular    3   jun       107         1   no  \n",
       "39996  cellular    3   jun       238         3  yes  \n",
       "39997  cellular    3   jun       170         1  yes  \n",
       "39998  cellular    3   jun       342         1   no  \n",
       "39999  cellular    3   jun       113         1   no  \n",
       "\n",
       "[40000 rows x 14 columns]>"
      ]
     },
     "execution_count": 3,
     "metadata": {},
     "output_type": "execute_result"
    }
   ],
   "source": [
    "df.info"
   ]
  },
  {
   "cell_type": "code",
   "execution_count": 4,
   "id": "0d84bc92-72d7-483e-b2e6-cb65a526d647",
   "metadata": {},
   "outputs": [
    {
     "data": {
      "text/plain": [
       "age           int64\n",
       "job          object\n",
       "marital      object\n",
       "education    object\n",
       "default      object\n",
       "balance       int64\n",
       "housing      object\n",
       "loan         object\n",
       "contact      object\n",
       "day           int64\n",
       "month        object\n",
       "duration      int64\n",
       "campaign      int64\n",
       "y            object\n",
       "dtype: object"
      ]
     },
     "execution_count": 4,
     "metadata": {},
     "output_type": "execute_result"
    }
   ],
   "source": [
    "df.dtypes"
   ]
  },
  {
   "cell_type": "markdown",
   "id": "d37cf965-2bd1-4adf-8abe-513893744221",
   "metadata": {},
   "source": [
    "**Variables**\n",
    "\n",
    "age : age of customer (numeric)\n",
    "\n",
    "job : type of job (categorical)\n",
    "\n",
    "marital : marital status (categorical)\n",
    "\n",
    "education (categorical)\n",
    "\n",
    "default: has credit in default? (binary)\n",
    "\n",
    "balance: average yearly balance, in euros (numeric)\n",
    "\n",
    "housing: has a housing loan? (binary)\n",
    "\n",
    "loan: has personal loan? (binary)\n",
    "\n",
    "contact: contact communication type (categorical)\n",
    "\n",
    "day: last contact day of the month (numeric)\n",
    "\n",
    "month: last contact month of year (categorical)\n",
    "\n",
    "duration: last contact duration, in seconds (numeric)\n",
    "\n",
    "campaign: number of contacts performed during this campaign and for this client (numeric, includes last contact)"
   ]
  },
  {
   "cell_type": "code",
   "execution_count": 5,
   "id": "b08611c0-e1ec-4f50-a56d-0955a576dfd8",
   "metadata": {},
   "outputs": [
    {
     "data": {
      "text/plain": [
       "<AxesSubplot:>"
      ]
     },
     "execution_count": 5,
     "metadata": {},
     "output_type": "execute_result"
    },
    {
     "data": {
      "image/png": "[encoded data removed]",
      "text/plain": [
       "<Figure size 1080x720 with 2 Axes>"
      ]
     },
     "metadata": {
      "needs_background": "light"
     },
     "output_type": "display_data"
    }
   ],
   "source": [
    "#Correlation Matrix: include numeric, exclude categorical\n",
    "df_num = df[['age', 'balance', 'duration', 'campaign']]\n",
    "\n",
    "plt.figure(figsize=(15, 10))\n",
    "sns.heatmap(df_num.corr(), annot=True)"
   ]
  },
  {
   "cell_type": "markdown",
   "id": "5e8aa1e9-5748-49d8-bee6-714075eee4ed",
   "metadata": {},
   "source": [
    "None of the variables/features are correlated. Thus, all variables will be include to build a classifier."
   ]
  },
  {
   "cell_type": "code",
   "execution_count": 6,
   "id": "491a5315-0608-4d3c-b23f-7e244d9f3c3e",
   "metadata": {},
   "outputs": [
    {
     "data": {
      "text/plain": [
       "y  \n",
       "no     37104\n",
       "yes     2896\n",
       "dtype: int64"
      ]
     },
     "execution_count": 6,
     "metadata": {},
     "output_type": "execute_result"
    }
   ],
   "source": [
    "#Check for imbalance data\n",
    "df[['y']].value_counts()"
   ]
  },
  {
   "cell_type": "markdown",
   "id": "aa06445d-2f97-4b3d-b484-1d758f2f2cff",
   "metadata": {},
   "source": [
    "There is a massive imbalance of subsbribe (yes/no) where data with \"no\" is signifigantly higher than 'yes'. Of 40000 observations from the dataset, 92% are subscribe \"no\". This will be dealt by downsampling the dataset to the size of subscribe 'yes' counts."
   ]
  },
  {
   "cell_type": "markdown",
   "id": "999d06e8-43e8-4751-903c-eedb47660f45",
   "metadata": {},
   "source": [
    "## Predicting if the customer will subscribe (yes/no) to a term deposit (variable y) with Classfier"
   ]
  },
  {
   "cell_type": "markdown",
   "id": "95964a34-65e4-4d25-8d1d-0f86ca4559c6",
   "metadata": {},
   "source": [
    "### Data Preparation"
   ]
  },
  {
   "cell_type": "code",
   "execution_count": 8,
   "id": "75644df4-02c3-4b77-a486-c3a8d0264c9a",
   "metadata": {},
   "outputs": [],
   "source": [
    "rs = 0 #assign random seed\n",
    "\n",
    "#Seperate features and label\n",
    "X = df[['age','job','marital','education','default', 'balance', 'housing','loan', 'contact', 'day', 'month', 'duration', 'campaign']]\n",
    "y = df[['y']]\n",
    "\n",
    "X_train, X_test, y_train, y_test = train_test_split(X, y, test_size = 0.3, stratify = y, random_state = rs)\n",
    "\n",
    "#Downsampling No class. Sampling only 5000 no class from training set and keep all yes class\n",
    "no = y_train[y_train['y']=='no']\n",
    "yes_Y  = y_train[y_train['y']=='yes']\n",
    "yes_X = X_train[X_train.index.isin(yes_Y.index)]\n",
    "\n",
    "#Sampling only 6000 no class from training set\n",
    "no_Y = no.sample(6000)\n",
    "\n",
    "no_Y_id = no_Y.index.tolist()\n",
    "duplicate = set([x for x in no_Y_id if no_Y_id.count(x) > 1])\n",
    "no_Y = no_Y.drop(index= duplicate)\n",
    "no_X = X_train[X_train.index.isin(no_Y.index)]\n",
    "\n",
    "no_Y_id = no_Y.index.tolist()\n",
    "no_Y = no_Y.sort_index()\n",
    "#no_X = no_X.sort_index()\n",
    "\n",
    "X_train = pd.concat([yes_X, no_X])\n",
    "y_train = pd.concat([yes_Y, no_Y])\n",
    "\n",
    "\n",
    "#Save column names\n",
    "X_col = X_train.columns\n",
    "\n",
    "#OHE\n",
    "ohe = OneHotEncoder(handle_unknown='ignore')\n",
    "ohe.fit(X_train)\n",
    "X_train = ohe.transform(X_train).toarray()\n",
    "X_test= ohe.transform(X_test).toarray()\n",
    "ohe_df = pd.DataFrame(X_train, columns=ohe.get_feature_names(X.columns))"
   ]
  },
  {
   "cell_type": "markdown",
   "id": "34c12852-feae-4646-9e5a-a3f6496fbf1d",
   "metadata": {},
   "source": [
    "### Decision Tree"
   ]
  },
  {
   "cell_type": "code",
   "execution_count": 9,
   "id": "21d30859-81c8-4797-86c2-08963d048b7e",
   "metadata": {},
   "outputs": [
    {
     "name": "stdout",
     "output_type": "stream",
     "text": [
      "Train accuracy: 1.0\n",
      "Test accuracy: 0.8731666666666666\n"
     ]
    }
   ],
   "source": [
    "# simple decision tree training\n",
    "clf = DecisionTreeClassifier(random_state=rs)\n",
    "\n",
    "clf.fit(X_train, y_train)\n",
    "print(\"Train accuracy:\", clf.score(X_train, y_train))\n",
    "print(\"Test accuracy:\", clf.score(X_test, y_test))"
   ]
  },
  {
   "cell_type": "code",
   "execution_count": 10,
   "id": "06060d0f-1407-4109-b7e4-c195ae71c47c",
   "metadata": {},
   "outputs": [
    {
     "name": "stdout",
     "output_type": "stream",
     "text": [
      "              precision    recall  f1-score   support\n",
      "\n",
      "          no       0.95      0.92      0.93     11131\n",
      "         yes       0.23      0.33      0.27       869\n",
      "\n",
      "    accuracy                           0.87     12000\n",
      "   macro avg       0.59      0.62      0.60     12000\n",
      "weighted avg       0.89      0.87      0.88     12000\n",
      "\n"
     ]
    }
   ],
   "source": [
    "y_pred = clf.predict(X_test)\n",
    "print(classification_report(y_test, y_pred))"
   ]
  },
  {
   "cell_type": "code",
   "execution_count": 11,
   "id": "deba28a3-15b3-47dd-ba6c-6e3fbe364484",
   "metadata": {},
   "outputs": [
    {
     "name": "stdout",
     "output_type": "stream",
     "text": [
      "{'criterion': 'gini', 'max_depth': 9, 'min_samples_leaf': 1}\n"
     ]
    }
   ],
   "source": [
    "# grid search CV\n",
    "params = {'criterion': ['gini', 'entropy'],\n",
    "          'max_depth': range(1, 10),\n",
    "          'min_samples_leaf': range(0, 20, 1)[1:]}\n",
    "\n",
    "cv_1 = GridSearchCV(param_grid=params, estimator=DecisionTreeClassifier(random_state=rs),return_train_score=True, cv=10)\n",
    "cv_1.fit(X_train, y_train)\n",
    "\n",
    "result_set = cv_1.cv_results_\n",
    "print(cv_1.best_params_)"
   ]
  },
  {
   "cell_type": "code",
   "execution_count": 12,
   "id": "87d36e11-cee6-4f1c-a6d9-4cbceea8619b",
   "metadata": {},
   "outputs": [
    {
     "name": "stdout",
     "output_type": "stream",
     "text": [
      "Train accuracy: 0.7917030023670113\n",
      "Test accuracy: 0.9093333333333333\n"
     ]
    }
   ],
   "source": [
    "clf_grid = DecisionTreeClassifier(criterion = 'gini', max_depth = 9 , min_samples_leaf=9)\n",
    "clf_grid.fit(X_train, y_train)\n",
    "print(\"Train accuracy:\", clf_grid.score(X_train, y_train))\n",
    "print(\"Test accuracy:\", clf_grid.score(X_test, y_test))"
   ]
  },
  {
   "cell_type": "code",
   "execution_count": 13,
   "id": "946d95b3-8a49-4014-8f18-a788a25bebb8",
   "metadata": {},
   "outputs": [
    {
     "name": "stdout",
     "output_type": "stream",
     "text": [
      "              precision    recall  f1-score   support\n",
      "\n",
      "          no       0.94      0.96      0.95     11131\n",
      "         yes       0.33      0.25      0.29       869\n",
      "\n",
      "    accuracy                           0.91     12000\n",
      "   macro avg       0.64      0.61      0.62     12000\n",
      "weighted avg       0.90      0.91      0.90     12000\n",
      "\n"
     ]
    }
   ],
   "source": [
    "y_pred = clf_grid.predict(X_test)\n",
    "print(classification_report(y_test, y_pred))"
   ]
  },
  {
   "cell_type": "markdown",
   "id": "5908cb89-281c-453e-ad72-0de80a35955c",
   "metadata": {},
   "source": [
    "The decision tree classifier did not perform well and did not handle data imbalance well. This is evident from the accuracy of predicting a customer will accept a loan being much lower than not accepting one.This classifier managed to hit the 90% overall accuracy withe the optimal parameter, but further classfication method will be considered to improve the ability to predict customers that will accept a term deposit."
   ]
  },
  {
   "cell_type": "markdown",
   "id": "1dc4b71d-2e27-4569-bf88-9aaafd9498a9",
   "metadata": {},
   "source": [
    "### XGBoost"
   ]
  },
  {
   "cell_type": "code",
   "execution_count": 14,
   "id": "35c35850-813b-4f30-afb1-1f0852b17082",
   "metadata": {},
   "outputs": [],
   "source": [
    "le = LabelEncoder()\n",
    "y_train = le.fit_transform(y_train.values.ravel())\n",
    "y_test = le.fit_transform(y_test.values.ravel())"
   ]
  },
  {
   "cell_type": "code",
   "execution_count": 15,
   "id": "fbf5e9a0-e315-4d65-930d-bad388bbfb86",
   "metadata": {},
   "outputs": [
    {
     "name": "stdout",
     "output_type": "stream",
     "text": [
      "Train accuracy: 0.8055313317553258\n",
      "Test accuracy: 0.9224166666666667\n"
     ]
    }
   ],
   "source": [
    "#XGBoost\n",
    "xgb_model = xgb.XGBClassifier(random_state=rs)\n",
    "xgb_model.fit(X_train, y_train)\n",
    "\n",
    "y_pred = xgb_model.predict(X_test)\n",
    "\n",
    "#print(confusion_matrix(y_test, y_pred))\n",
    "print(\"Train accuracy:\", xgb_model.score(X_train, y_train))\n",
    "print(\"Test accuracy:\", xgb_model.score(X_test, y_test))"
   ]
  },
  {
   "cell_type": "code",
   "execution_count": 16,
   "id": "b211558e-f4d7-4562-b968-2770ce05ba05",
   "metadata": {},
   "outputs": [
    {
     "name": "stdout",
     "output_type": "stream",
     "text": [
      "              precision    recall  f1-score   support\n",
      "\n",
      "           0       0.94      0.98      0.96     11131\n",
      "           1       0.43      0.21      0.28       869\n",
      "\n",
      "    accuracy                           0.92     12000\n",
      "   macro avg       0.68      0.59      0.62     12000\n",
      "weighted avg       0.90      0.92      0.91     12000\n",
      "\n"
     ]
    }
   ],
   "source": [
    "y_pred = xgb_model.predict(X_test)\n",
    "print(classification_report(y_test, y_pred))"
   ]
  },
  {
   "cell_type": "markdown",
   "id": "d39dd570-340e-451f-946e-b7fb1535c146",
   "metadata": {},
   "source": [
    "The XGBoost classifier manage to improve the overall performance by only 1%. However, it has signifigantly improve the predicting ability of customer accepting a term deposit.XGBoost will not be selected as the best performing model as the predicting ability for customer that accept a loan is still very low. Further classification method will be considered to improve the predicting accuracy for yes class."
   ]
  },
  {
   "cell_type": "markdown",
   "id": "77aeedf2-ca5d-4005-a60e-5cdbeee4f328",
   "metadata": {},
   "source": [
    "### SVM"
   ]
  },
  {
   "cell_type": "code",
   "execution_count": 17,
   "id": "41f3b79a-8165-4138-bdd7-f823f7e1d77f",
   "metadata": {},
   "outputs": [
    {
     "name": "stdout",
     "output_type": "stream",
     "text": [
      "Train accuracy: 0.9556496823221627\n",
      "Test accuracy: 0.8970833333333333\n"
     ]
    }
   ],
   "source": [
    "svm = SVC(C=1, kernel='linear')\n",
    "svm.fit(X_train, y_train.ravel())\n",
    "\n",
    "# training and test accuracy\n",
    "print(\"Train accuracy:\", svm.score(X_train, y_train))\n",
    "print(\"Test accuracy:\", svm.score(X_test, y_test))"
   ]
  },
  {
   "cell_type": "code",
   "execution_count": 19,
   "id": "efa51b36-7b32-4436-932e-4cdcdb959f51",
   "metadata": {},
   "outputs": [
    {
     "name": "stdout",
     "output_type": "stream",
     "text": [
      "              precision    recall  f1-score   support\n",
      "\n",
      "           0       0.97      0.92      0.94     11131\n",
      "           1       0.37      0.58      0.45       869\n",
      "\n",
      "    accuracy                           0.90     12000\n",
      "   macro avg       0.67      0.75      0.70     12000\n",
      "weighted avg       0.92      0.90      0.91     12000\n",
      "\n"
     ]
    }
   ],
   "source": [
    "y_pred = svm.predict(X_test)\n",
    "print(classification_report(y_test, y_pred))"
   ]
  },
  {
   "cell_type": "code",
   "execution_count": 22,
   "id": "88058650-2edb-42e3-ac6f-67365f15791d",
   "metadata": {
    "scrolled": true,
    "tags": []
   },
   "outputs": [
    {
     "data": {
      "text/plain": [
       "{'mean_fit_time': array([47.2024848 , 44.78578053, 42.51954103, 44.19169054, 44.22329478,\n",
       "        58.84599743, 48.3535974 , 42.94331136, 38.70213127, 63.82246385,\n",
       "        48.55381184, 47.20967007, 41.77689443, 74.79897876, 48.94060326,\n",
       "        47.40635691, 46.50575428, 74.94030218, 69.28568106, 47.16734972,\n",
       "        47.57178617, 75.3571702 , 67.36452336, 43.89131594, 47.29673228]),\n",
       " 'std_fit_time': array([0.52622624, 0.35149274, 0.58045724, 0.7645463 , 1.59818101,\n",
       "        0.43286189, 1.25430862, 1.65172489, 0.3305201 , 0.2026914 ,\n",
       "        0.39468877, 0.76933772, 0.15681914, 0.24678543, 0.28693495,\n",
       "        0.41975766, 0.19130207, 0.24194244, 7.52834883, 0.23095774,\n",
       "        0.62712383, 0.86724396, 7.64271067, 0.42450775, 0.37261638]),\n",
       " 'mean_score_time': array([10.49486594,  9.38253226,  7.02684517,  5.94456897,  5.74505539,\n",
       "        33.64780011, 26.31232114, 25.70337615, 21.91705427, 35.42796154,\n",
       "        26.30730019, 25.29206395, 23.13554387, 38.15984001, 26.89472308,\n",
       "        25.41323972, 25.01636066, 38.5327004 , 25.07121758, 25.37781544,\n",
       "        25.48103776, 38.48089232, 24.78864198, 20.96230488, 25.65244846]),\n",
       " 'std_score_time': array([0.13750724, 0.0841466 , 0.12465202, 0.07065035, 0.10752569,\n",
       "        0.24126484, 0.20575163, 3.20586943, 0.1044747 , 0.61050938,\n",
       "        0.29076401, 0.21915909, 0.10992751, 0.29384745, 0.19200066,\n",
       "        0.1358177 , 0.21194516, 0.26841148, 0.04214856, 0.10805837,\n",
       "        0.53260328, 0.43877595, 0.24192789, 0.21123009, 0.34993114]),\n",
       " 'param_C': masked_array(data=[0.1, 1, 10, 100, 1000, 0.1, 0.1, 0.1, 0.1, 1, 1, 1, 1,\n",
       "                    10, 10, 10, 10, 100, 100, 100, 100, 1000, 1000, 1000,\n",
       "                    1000],\n",
       "              mask=[False, False, False, False, False, False, False, False,\n",
       "                    False, False, False, False, False, False, False, False,\n",
       "                    False, False, False, False, False, False, False, False,\n",
       "                    False],\n",
       "        fill_value='?',\n",
       "             dtype=object),\n",
       " 'param_kernel': masked_array(data=['linear', 'linear', 'linear', 'linear', 'linear',\n",
       "                    'rbf', 'rbf', 'rbf', 'rbf', 'rbf', 'rbf', 'rbf', 'rbf',\n",
       "                    'rbf', 'rbf', 'rbf', 'rbf', 'rbf', 'rbf', 'rbf', 'rbf',\n",
       "                    'rbf', 'rbf', 'rbf', 'rbf'],\n",
       "              mask=[False, False, False, False, False, False, False, False,\n",
       "                    False, False, False, False, False, False, False, False,\n",
       "                    False, False, False, False, False, False, False, False,\n",
       "                    False],\n",
       "        fill_value='?',\n",
       "             dtype=object),\n",
       " 'param_gamma': masked_array(data=[--, --, --, --, --, 0.1, 0.01, 0.001, 0.0001, 0.1,\n",
       "                    0.01, 0.001, 0.0001, 0.1, 0.01, 0.001, 0.0001, 0.1,\n",
       "                    0.01, 0.001, 0.0001, 0.1, 0.01, 0.001, 0.0001],\n",
       "              mask=[ True,  True,  True,  True,  True, False, False, False,\n",
       "                    False, False, False, False, False, False, False, False,\n",
       "                    False, False, False, False, False, False, False, False,\n",
       "                    False],\n",
       "        fill_value='?',\n",
       "             dtype=object),\n",
       " 'params': [{'C': 0.1, 'kernel': 'linear'},\n",
       "  {'C': 1, 'kernel': 'linear'},\n",
       "  {'C': 10, 'kernel': 'linear'},\n",
       "  {'C': 100, 'kernel': 'linear'},\n",
       "  {'C': 1000, 'kernel': 'linear'},\n",
       "  {'C': 0.1, 'gamma': 0.1, 'kernel': 'rbf'},\n",
       "  {'C': 0.1, 'gamma': 0.01, 'kernel': 'rbf'},\n",
       "  {'C': 0.1, 'gamma': 0.001, 'kernel': 'rbf'},\n",
       "  {'C': 0.1, 'gamma': 0.0001, 'kernel': 'rbf'},\n",
       "  {'C': 1, 'gamma': 0.1, 'kernel': 'rbf'},\n",
       "  {'C': 1, 'gamma': 0.01, 'kernel': 'rbf'},\n",
       "  {'C': 1, 'gamma': 0.001, 'kernel': 'rbf'},\n",
       "  {'C': 1, 'gamma': 0.0001, 'kernel': 'rbf'},\n",
       "  {'C': 10, 'gamma': 0.1, 'kernel': 'rbf'},\n",
       "  {'C': 10, 'gamma': 0.01, 'kernel': 'rbf'},\n",
       "  {'C': 10, 'gamma': 0.001, 'kernel': 'rbf'},\n",
       "  {'C': 10, 'gamma': 0.0001, 'kernel': 'rbf'},\n",
       "  {'C': 100, 'gamma': 0.1, 'kernel': 'rbf'},\n",
       "  {'C': 100, 'gamma': 0.01, 'kernel': 'rbf'},\n",
       "  {'C': 100, 'gamma': 0.001, 'kernel': 'rbf'},\n",
       "  {'C': 100, 'gamma': 0.0001, 'kernel': 'rbf'},\n",
       "  {'C': 1000, 'gamma': 0.1, 'kernel': 'rbf'},\n",
       "  {'C': 1000, 'gamma': 0.01, 'kernel': 'rbf'},\n",
       "  {'C': 1000, 'gamma': 0.001, 'kernel': 'rbf'},\n",
       "  {'C': 1000, 'gamma': 0.0001, 'kernel': 'rbf'}],\n",
       " 'split0_test_score': array([0.76650062, 0.81818182, 0.79389788, 0.76774595, 0.77085928,\n",
       "        0.74719801, 0.74719801, 0.74719801, 0.74719801, 0.77646326,\n",
       "        0.74782067, 0.74719801, 0.74719801, 0.78704857, 0.77957659,\n",
       "        0.75280199, 0.74719801, 0.78704857, 0.81631382, 0.78518057,\n",
       "        0.75217933, 0.78704857, 0.81693649, 0.8132005 , 0.78393524]),\n",
       " 'split1_test_score': array([0.76525529, 0.82689913, 0.80448319, 0.77646326, 0.77272727,\n",
       "        0.74719801, 0.74719801, 0.74719801, 0.74719801, 0.78580324,\n",
       "        0.749066  , 0.74719801, 0.74719801, 0.81070984, 0.78953923,\n",
       "        0.75529265, 0.74719801, 0.81070984, 0.82938979, 0.78580324,\n",
       "        0.75591532, 0.81070984, 0.82254047, 0.82440847, 0.78580324]),\n",
       " 'split2_test_score': array([0.76323988, 0.81246106, 0.78566978, 0.76199377, 0.7576324 ,\n",
       "        0.74766355, 0.74766355, 0.74766355, 0.74766355, 0.77757009,\n",
       "        0.75202492, 0.74766355, 0.74766355, 0.78629283, 0.77819315,\n",
       "        0.75140187, 0.74766355, 0.78629283, 0.80809969, 0.78068536,\n",
       "        0.75140187, 0.78629283, 0.80249221, 0.80747664, 0.78442368]),\n",
       " 'split3_test_score': array([0.77445483, 0.81682243, 0.79376947, 0.76261682, 0.7588785 ,\n",
       "        0.74766355, 0.74766355, 0.74766355, 0.74766355, 0.78068536,\n",
       "        0.75202492, 0.74766355, 0.74766355, 0.79750779, 0.78504673,\n",
       "        0.75264798, 0.74766355, 0.79750779, 0.81806854, 0.78691589,\n",
       "        0.75327103, 0.79750779, 0.81433022, 0.81433022, 0.78691589]),\n",
       " 'split4_test_score': array([0.77445483, 0.82429907, 0.80186916, 0.77383178, 0.76573209,\n",
       "        0.74766355, 0.74766355, 0.74766355, 0.74766355, 0.78193146,\n",
       "        0.74766355, 0.74766355, 0.74766355, 0.8       , 0.78753894,\n",
       "        0.74953271, 0.74766355, 0.8       , 0.8211838 , 0.78878505,\n",
       "        0.74953271, 0.8       , 0.81744548, 0.81806854, 0.78878505]),\n",
       " 'mean_test_score': array([0.76878109, 0.8197327 , 0.7959379 , 0.76853032, 0.76516591,\n",
       "        0.74747733, 0.74747733, 0.74747733, 0.74747733, 0.78049068,\n",
       "        0.74972001, 0.74747733, 0.74747733, 0.79631181, 0.78397893,\n",
       "        0.75233544, 0.74747733, 0.79631181, 0.81861113, 0.78547402,\n",
       "        0.75246005, 0.79631181, 0.81474897, 0.81549687, 0.78597262]),\n",
       " 'std_test_score': array([0.00474804, 0.00521462, 0.00667083, 0.00581976, 0.00610237,\n",
       "        0.00022807, 0.00022807, 0.00022807, 0.00022807, 0.00331925,\n",
       "        0.00194368, 0.00022807, 0.00022807, 0.00903907, 0.00441784,\n",
       "        0.00188612, 0.00022807, 0.00903907, 0.00691174, 0.00268952,\n",
       "        0.00211492, 0.00903907, 0.00668083, 0.00560337, 0.00175376]),\n",
       " 'rank_test_score': array([13,  1,  8, 14, 15, 19, 19, 19, 19, 12, 18, 19, 19,  5, 11, 17, 19,\n",
       "         5,  2, 10, 16,  5,  4,  3,  9])}"
      ]
     },
     "execution_count": 22,
     "metadata": {},
     "output_type": "execute_result"
    }
   ],
   "source": [
    "param_grid = [\n",
    "  {'C': [0.1, 1, 10, 100, 1000], 'kernel': ['linear']},\n",
    "  {'C': [0.1, 1, 10, 100, 1000], 'gamma': [0.1, 0.01, 0.001, 0.0001], 'kernel': ['rbf']},\n",
    " ]\n",
    "\n",
    "svm = SVC()\n",
    "grid_search = GridSearchCV(svm, param_grid)\n",
    "grid_search.fit(X_train, y_train.ravel())\n",
    "grid_search.cv_results_"
   ]
  },
  {
   "cell_type": "code",
   "execution_count": 23,
   "id": "3b3e88c2-1259-493b-90dd-a3e1da8cd007",
   "metadata": {},
   "outputs": [
    {
     "name": "stdout",
     "output_type": "stream",
     "text": [
      "{'C': 1, 'kernel': 'linear'}\n"
     ]
    }
   ],
   "source": [
    "best_svm = np.argmin(grid_search.cv_results_['rank_test_score'])\n",
    "params = grid_search.cv_results_['params'][best_svm]\n",
    "print(params)"
   ]
  },
  {
   "cell_type": "code",
   "execution_count": 24,
   "id": "04ffd2f2-c88f-4343-a0be-a3d3c30830ae",
   "metadata": {},
   "outputs": [
    {
     "name": "stdout",
     "output_type": "stream",
     "text": [
      "Train accuracy: 0.9556496823221627\n",
      "Test accuracy: 0.8970833333333333\n"
     ]
    }
   ],
   "source": [
    "svm_best = SVC().set_params(**params)\n",
    "svm_best.fit(X_train, y_train.ravel())\n",
    "\n",
    "# training and test accuracy\n",
    "print(\"Train accuracy:\", svm_best.score(X_train, y_train))\n",
    "print(\"Test accuracy:\", svm_best.score(X_test, y_test))"
   ]
  },
  {
   "cell_type": "code",
   "execution_count": 25,
   "id": "b6eb135f-9feb-48ac-8dab-774dd09deeff",
   "metadata": {},
   "outputs": [
    {
     "name": "stdout",
     "output_type": "stream",
     "text": [
      "              precision    recall  f1-score   support\n",
      "\n",
      "           0       0.97      0.92      0.94     11131\n",
      "           1       0.37      0.58      0.45       869\n",
      "\n",
      "    accuracy                           0.90     12000\n",
      "   macro avg       0.67      0.75      0.70     12000\n",
      "weighted avg       0.92      0.90      0.91     12000\n",
      "\n"
     ]
    }
   ],
   "source": [
    "y_pred = svm_best.predict(X_test)\n",
    "print(classification_report(y_test, y_pred))"
   ]
  },
  {
   "cell_type": "code",
   "execution_count": 26,
   "id": "d22162b1-05b6-415a-8420-8b5dafb26b59",
   "metadata": {},
   "outputs": [
    {
     "name": "stdout",
     "output_type": "stream",
     "text": [
      "5-fold cross validation score: [0.92958333 0.92666667 0.92       0.925      0.92166667]\n",
      "5-fold cross validation average performance score: 0.9245833333333333\n"
     ]
    }
   ],
   "source": [
    "scores = cross_val_score(svm_best, X_test, y_test, cv=5)\n",
    "avg_score = np.mean(scores)\n",
    "\n",
    "print(\"5-fold cross validation score:\", scores)\n",
    "print(\"5-fold cross validation average performance score:\", avg_score)"
   ]
  },
  {
   "cell_type": "markdown",
   "id": "774b72b4-9d23-4478-a34f-3193353c7f68",
   "metadata": {},
   "source": [
    "The SVM classifier has the best accuracy and the SVM model with optimal hyperparameter {'C': 1, 'kernel': 'linear'} obtained through grid search has a overall accuracy of 89.7%. Additionally the ability to predict a person accepting a term deposit is 37% which is the lower than the XGBoost classifier. \n"
   ]
  },
  {
   "cell_type": "markdown",
   "id": "679d69b6-17ec-4561-a935-38bd1852b143",
   "metadata": {},
   "source": [
    "### Best Model "
   ]
  },
  {
   "cell_type": "markdown",
   "id": "9b961392-da6c-4f92-97c1-c9cfadf57e53",
   "metadata": {},
   "source": [
    "The best classifier in this project is XGBoost classifier with an overall accuracy of  92% and 43% accuracy on prediction customer that will accept a term deposit. "
   ]
  },
  {
   "cell_type": "code",
   "execution_count": 27,
   "id": "6373e81c-4989-4edd-8bc3-61cc95e568cd",
   "metadata": {},
   "outputs": [
    {
     "name": "stdout",
     "output_type": "stream",
     "text": [
      "              precision    recall  f1-score   support\n",
      "\n",
      "           0       0.94      0.98      0.96     11131\n",
      "           1       0.43      0.21      0.28       869\n",
      "\n",
      "    accuracy                           0.92     12000\n",
      "   macro avg       0.68      0.59      0.62     12000\n",
      "weighted avg       0.90      0.92      0.91     12000\n",
      "\n"
     ]
    }
   ],
   "source": [
    "y_pred = xgb_model.predict(X_test)\n",
    "print(classification_report(y_test, y_pred))"
   ]
  },
  {
   "cell_type": "markdown",
   "id": "a57d192b-ef60-404c-b576-e7252560b607",
   "metadata": {},
   "source": [
    "Given 12000 samples with a customer that accepts term deposit, this XGBoost model managed to classify 373 (43%) of the samples correctly. Whereas for the 11131 of the customer that did not accept a term deposit, 10463(94%) have been classified correctly. The ability to correctly classified a customer that will acceprt term deposit can be improve by increase the number of training samples."
   ]
  },
  {
   "cell_type": "markdown",
   "id": "65bc56ed-bc65-480c-969a-59bc352690b2",
   "metadata": {},
   "source": [
    "#### 5-fold cross validation"
   ]
  },
  {
   "cell_type": "code",
   "execution_count": 28,
   "id": "b6b9bd6f-84db-4371-9a5e-ba4b43f2ef90",
   "metadata": {},
   "outputs": [
    {
     "name": "stdout",
     "output_type": "stream",
     "text": [
      "5-fold cross validation score: [0.93083333 0.93       0.92583333 0.92583333 0.9275    ]\n",
      "5-fold cross validation average performance score: 0.9279999999999999\n"
     ]
    }
   ],
   "source": [
    "scores = cross_val_score(xgb_model, X_test, y_test, cv=5)\n",
    "avg_score = np.mean(scores)\n",
    "\n",
    "print(\"5-fold cross validation score:\", scores)\n",
    "print(\"5-fold cross validation average performance score:\", avg_score)"
   ]
  },
  {
   "cell_type": "markdown",
   "id": "9ae125aa-c6a5-44c8-888e-5aef6ffde4d0",
   "metadata": {},
   "source": [
    "The 5-fold cross validation average performance score for the XGBoost classifier is 92.8% which has met the success criteria. "
   ]
  },
  {
   "cell_type": "markdown",
   "id": "08f5e0c0-c7ee-41ac-88d2-e9b7bf49dc88",
   "metadata": {},
   "source": [
    "### Feature Importance\n",
    "\n",
    "The XGBoost model which has the highest precision of customers accepting a term deposit will be used to extract the importance the features. "
   ]
  },
  {
   "cell_type": "code",
   "execution_count": 29,
   "id": "3928df48-320f-46e0-98bb-f0f4f55570f3",
   "metadata": {},
   "outputs": [
    {
     "name": "stdout",
     "output_type": "stream",
     "text": [
      "('housing', 0.005235288)\n",
      "('loan', 0.0038257497)\n",
      "('contact', 0.0036746704)\n",
      "('month', 0.0030853902)\n",
      "('default', 0.002623975)\n",
      "('campaign', 0.0026060191)\n",
      "('marital', 0.0021823612)\n",
      "('day', 0.0009160614)\n",
      "('age', 0.0)\n",
      "('job', 0.0)\n",
      "('education', 0.0)\n",
      "('balance', 0.0)\n",
      "('duration', 0.0)\n"
     ]
    }
   ],
   "source": [
    "# get feature importances\n",
    "feature_importances = zip(X_col, xgb_model.feature_importances_)\n",
    "\n",
    "sorted_feature = []\n",
    "for i in list(feature_importances):\n",
    "    sorted_feature.append(i)\n",
    "\n",
    "sorted_feature.sort(key = lambda row: row[1], reverse=True)\n",
    "for i in sorted_feature:\n",
    "    print (i)"
   ]
  },
  {
   "cell_type": "markdown",
   "id": "a2a7b505-a1b8-4502-8ac8-711f25209749",
   "metadata": {},
   "source": [
    "Based on the feature importance of the XGboost classifier. It is suggested that housing, month and balance has the highest importance. Whereas age, job, maritial, education, balance and duration has no effect on predicting whether a customer will invest in term deposit. "
   ]
  }
 ],
 "metadata": {
  "kernelspec": {
   "display_name": "Python 3 (ipykernel)",
   "language": "python",
   "name": "python3"
  },
  "language_info": {
   "codemirror_mode": {
    "name": "ipython",
    "version": 3
   },
   "file_extension": ".py",
   "mimetype": "text/x-python",
   "name": "python",
   "nbconvert_exporter": "python",
   "pygments_lexer": "ipython3",
   "version": "3.9.7"
  }
 },
 "nbformat": 4,
 "nbformat_minor": 5
}
